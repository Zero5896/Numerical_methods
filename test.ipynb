{
 "cells": [
  {
   "cell_type": "code",
   "execution_count": 14,
   "metadata": {},
   "outputs": [],
   "source": [
    "import Rootfinding \n",
    "import numpy as np"
   ]
  },
  {
   "cell_type": "code",
   "execution_count": 7,
   "metadata": {},
   "outputs": [
    {
     "name": "stdout",
     "output_type": "stream",
     "text": [
      "[0.7390823]\n"
     ]
    }
   ],
   "source": [
    "f = lambda x: np.cos(x)  # Define the function f(x) = cos(x)\n",
    "initial_guess = np.array([1.0])  # Initial guess for the fixed point\n",
    "fixed_point = Rootfinding.fixed_point_iteration(f, initial_guess)  # Perform fixeds-point iteration\n",
    "print(fixed_point)"
   ]
  },
  {
   "cell_type": "code",
   "execution_count": 12,
   "metadata": {},
   "outputs": [
    {
     "data": {
      "text/plain": [
       "2.561552812809308"
      ]
     },
     "execution_count": 12,
     "metadata": {},
     "output_type": "execute_result"
    }
   ],
   "source": [
    "f = lambda x: x**2 - 4 +x  # Define the function f(x) = x^2 - 4 + x\n",
    "g = lambda x: f(x) - x # Define the function g(x) = x^2 - 4\n",
    "initial_guess = 3.0  # Initial guess for the root\n",
    "root = Rootfinding.steffensen(g, initial_guess)  # Apply Steffensen's method\n",
    "root  # Display the estimated root"
   ]
  },
  {
   "cell_type": "code",
   "execution_count": 25,
   "metadata": {},
   "outputs": [
    {
     "name": "stdout",
     "output_type": "stream",
     "text": [
      "14.861696423669386\n"
     ]
    }
   ],
   "source": [
    "import matplotlib.pyplot as plt\n",
    "\n",
    "def Euler_method(f, x0, y0, x1, h):\n",
    "    y = y0\n",
    "    x = x0\n",
    "    while x <= x1:\n",
    "\n",
    "        y = y + h * f(x, y)\n",
    "        x += h\n",
    "    return y\n",
    "\n",
    "f = lambda x, y: x**2 + 1 + y\n",
    "x0 = 0\n",
    "y0 = 0.5\n",
    "x1 = 2\n",
    "h = 0.000000005\n",
    "\n",
    "result = Euler_method(f, x0, y0, x1, h)\n",
    "print(result)\n",
    "\n"
   ]
  },
  {
   "cell_type": "code",
   "execution_count": 56,
   "metadata": {},
   "outputs": [
    {
     "name": "stdout",
     "output_type": "stream",
     "text": [
      "18446744073709551615\n",
      "553402322211286.5\n",
      "1106.804644422573\n"
     ]
    }
   ],
   "source": [
    "\n",
    "def chess(slots):\n",
    "    total = 1\n",
    "    count = 1\n",
    "    for i in range(1,slots):\n",
    "        count = count * 2\n",
    "        total += count\n",
    "    return total\n",
    "\n",
    "\n",
    "def weight(total):\n",
    "    \n",
    "    return (((0.02+0.04)/2)*total)/1000\n",
    "\n",
    "\n",
    "slots = 64\n",
    "\n",
    "annual_world_rice_production_kg = 500e6 * 1000 \n",
    "\n",
    "\n",
    "count = chess(slots)\n",
    "\n",
    "print(count)\n",
    "\n",
    "weight=weight(count)\n",
    "\n",
    "print(weight)\n",
    "print(weight/annual_world_rice_production_kg)"
   ]
  },
  {
   "cell_type": "code",
   "execution_count": 47,
   "metadata": {},
   "outputs": [
    {
     "name": "stdout",
     "output_type": "stream",
     "text": [
      "1.7168419101462562e+30\n"
     ]
    }
   ],
   "source": [
    "def geometric_sum(a,n):\n",
    "    return (a**(n+1)-1)/(a-1)\n",
    "\n",
    "result = geometric_sum(3,63)\n",
    "\n",
    "print(result)"
   ]
  },
  {
   "cell_type": "markdown",
   "metadata": {},
   "source": [
    "$$\n",
    "\\sum_{n =0}^k a^n =\\frac{a^{k+1}-1}{a-1}\n",
    "$$"
   ]
  },
  {
   "cell_type": "code",
   "execution_count": 17,
   "metadata": {},
   "outputs": [
    {
     "name": "stdout",
     "output_type": "stream",
     "text": [
      "+---+--------------------+------------------------+\n",
      "| i |         p          |          f(p)          |\n",
      "+---+--------------------+------------------------+\n",
      "| 1 | 2.1666666666666665 |   0.6944444444444438   |\n",
      "| 2 | 2.0064102564102564 |  0.02568211702827039   |\n",
      "| 3 | 2.0000102400262145 | 4.0960209716445206e-05 |\n",
      "| 4 | 2.000000000026214  | 1.0485656787295738e-10 |\n",
      "| 5 |        2.0         |          0.0           |\n",
      "+---+--------------------+------------------------+\n",
      "ER = 1.3107070984119673e-09%\n"
     ]
    },
    {
     "data": {
      "text/plain": [
       "2.0"
      ]
     },
     "execution_count": 17,
     "metadata": {},
     "output_type": "execute_result"
    }
   ],
   "source": [
    "f = lambda x: x**2 - 4  # Define the function f(x) = x^2 - 4\n",
    "fp = lambda x: 2 * x  # Define the derivative of f\n",
    "initial_guess = 3.0  # Initial guess for the root\n",
    "root = Rootfinding.Newton_R(f, fp, initial_guess)  # Apply Newton-Raphson method\n",
    "root  # Display the estimated root"
   ]
  }
 ],
 "metadata": {
  "kernelspec": {
   "display_name": "Python 3",
   "language": "python",
   "name": "python3"
  },
  "language_info": {
   "codemirror_mode": {
    "name": "ipython",
    "version": 3
   },
   "file_extension": ".py",
   "mimetype": "text/x-python",
   "name": "python",
   "nbconvert_exporter": "python",
   "pygments_lexer": "ipython3",
   "version": "3.12.0"
  }
 },
 "nbformat": 4,
 "nbformat_minor": 2
}
