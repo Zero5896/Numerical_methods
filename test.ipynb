{
 "cells": [
  {
   "cell_type": "code",
   "execution_count": 3,
   "metadata": {},
   "outputs": [],
   "source": [
    "import numerical_methods.Rootfinding as rf\n",
    "import numpy as np"
   ]
  },
  {
   "cell_type": "code",
   "execution_count": 4,
   "metadata": {},
   "outputs": [
    {
     "name": "stdout",
     "output_type": "stream",
     "text": [
      "[0.7390823]\n"
     ]
    }
   ],
   "source": [
    "f = lambda x: np.cos(x)  # Define the function f(x) = cos(x)\n",
    "initial_guess = np.array([1.0])  # Initial guess for the fixed point\n",
    "fixed_point = rf.fixed_point_iteration(f, initial_guess)  # Perform fixed-point iteration\n",
    "print(fixed_point)"
   ]
  }
 ],
 "metadata": {
  "kernelspec": {
   "display_name": "Python 3",
   "language": "python",
   "name": "python3"
  },
  "language_info": {
   "codemirror_mode": {
    "name": "ipython",
    "version": 3
   },
   "file_extension": ".py",
   "mimetype": "text/x-python",
   "name": "python",
   "nbconvert_exporter": "python",
   "pygments_lexer": "ipython3",
   "version": "3.11.3"
  }
 },
 "nbformat": 4,
 "nbformat_minor": 2
}
